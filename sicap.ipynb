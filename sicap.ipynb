{
 "cells": [
  {
   "cell_type": "code",
   "execution_count": 5,
   "metadata": {},
   "outputs": [],
   "source": [
    "from selenium import webdriver\n",
    "from selenium.webdriver.common.by import By\n",
    "from selenium.webdriver.support.ui import WebDriverWait\n",
    "from selenium.webdriver.support import expected_conditions as EC\n",
    "from datetime import datetime\n",
    "import time\n",
    "import os"
   ]
  },
  {
   "cell_type": "code",
   "execution_count": 6,
   "metadata": {},
   "outputs": [],
   "source": [
    "link_sicap = 'http://sistemassatelites.equatorial.corp:8080/Sicap-adm/'\n",
    "usuario_sicap = 'u5512983'\n",
    "senha_sicap = 'Ft$85Gb13:<f>@#$'"
   ]
  },
  {
   "cell_type": "code",
   "execution_count": 7,
   "metadata": {},
   "outputs": [],
   "source": [
    "chrome_options = webdriver.ChromeOptions()\n",
    "navegador = webdriver.Chrome(options= chrome_options)\n",
    "navegador.implicitly_wait(200)\n",
    "navegador.get(link_sicap)"
   ]
  },
  {
   "cell_type": "code",
   "execution_count": 8,
   "metadata": {},
   "outputs": [],
   "source": [
    "#Mudando o implicity wait para testes de elemtento (ALTERAR DEPOIS)\n",
    "navegador.implicitly_wait(1)"
   ]
  },
  {
   "cell_type": "code",
   "execution_count": 36,
   "metadata": {},
   "outputs": [],
   "source": [
    "#Elementos\n",
    "xpath_login = '//*[@id=\"input_username\"]'\n",
    "xpath_senha = '//*[@id=\"input_password\"]'\n",
    "xpath_login = '//*[@id=\"j_idt30\"]'\n",
    "\n",
    "erro_login = '//*[@id=\"msg-modal\"]/div/ul/li'\n",
    "\n",
    "ss_do_parecer = '164707086'\n"
   ]
  },
  {
   "cell_type": "code",
   "execution_count": 13,
   "metadata": {},
   "outputs": [],
   "source": [
    "def click_if_found(navegador, element_click): \n",
    "    try_order = [By.ID, By.XPATH, By.TAG_NAME, By.CSS_SELECTOR]\n",
    "    for locator_type in try_order:\n",
    "        try:\n",
    "            element = navegador.find_element(locator_type, element_click)\n",
    "            while not element.is_displayed():\n",
    "                pass\n",
    "            element.click()\n",
    "            return  # Parar a execução se o elemento for encontrado com sucesso\n",
    "        except:\n",
    "            pass"
   ]
  },
  {
   "cell_type": "code",
   "execution_count": 21,
   "metadata": {},
   "outputs": [],
   "source": [
    "def tentativa_login(self, navegador=navegador):\n",
    "    self.button_login = '//*[@id=\"j_idt19\"]'\n",
    "    self.usuario_sicap = 'u5512983'\n",
    "    self.senha_sicap = 'Ft$85Gb13:<f>@#$'\n",
    "    self.button_enter = '//*[@id=\"j_idt30\"]'\n",
    "    self.xpath_login = '//*[@id=\"input_username\"]'\n",
    "    self.xpath_senha = '//*[@id=\"input_password\"]'\n",
    "    \n",
    "    try:\n",
    "        #Botão Login, antes de inserir o usuario/senha\n",
    "        click_if_found(navegador, element_click=self.button_login)\n",
    "        # Preencher usuário e senha\n",
    "        navegador.find_element(by=By.XPATH, value= self.xpath_login).send_keys(self.usuario_sicap)\n",
    "        navegador.find_element(by=By.XPATH, value= self.xpath_senha).send_keys(self.senha_sicap)\n",
    "        #Botao Enter\n",
    "        click_if_found(navegador, element_click=self.button_enter)\n",
    "    except:\n",
    "        pass\n",
    "    \n",
    "tentativa_login(navegador)"
   ]
  },
  {
   "cell_type": "code",
   "execution_count": 37,
   "metadata": {},
   "outputs": [],
   "source": [
    "class ReadExcelFile:\n",
    "    ss_do_parecer = '164707086'\n",
    "    \n",
    "    def __init__(self, ss_do_parecer) -> None:\n",
    "        self.ss_do_parecer = ss_do_parecer\n",
    "        \n",
    "        pass"
   ]
  },
  {
   "cell_type": "code",
   "execution_count": 44,
   "metadata": {},
   "outputs": [],
   "source": [
    "class Sicap:\n",
    "    def __init__(self) -> None:\n",
    "        self.button_find = '//*[@id=\"templateForm:j_idt48\"]'\n",
    "        self.button_insert_ss = '//*[@id=\"novasEntradas:interessadoFilter\"]'\n",
    "        self.button_consultar = '//*[@id=\"novasEntradas:j_idt92\"]'\n",
    "        \n",
    "    def search_button(self, navegador, ss_do_parecer):\n",
    "        try:\n",
    "            # Botão Buscar\n",
    "            click_if_found(navegador, element_click=self.button_find)\n",
    "            # Botão Inserir SS do parecer\n",
    "            ss_value = str(self.ss_do_parecer)  # Garante que o valor seja uma string\n",
    "            navegador.find_element(by=By.XPATH, value=self.button_insert_ss).send_keys(ss_value)\n",
    "            # Botão Consultar\n",
    "            click_if_found(navegador, element_click=self.button_consultar)\n",
    "        except:\n",
    "            pass\n"
   ]
  },
  {
   "cell_type": "code",
   "execution_count": 45,
   "metadata": {},
   "outputs": [
    {
     "ename": "TypeError",
     "evalue": "search_button() missing 1 required positional argument: 'self'",
     "output_type": "error",
     "traceback": [
      "\u001b[1;31m---------------------------------------------------------------------------\u001b[0m",
      "\u001b[1;31mTypeError\u001b[0m                                 Traceback (most recent call last)",
      "Cell \u001b[1;32mIn[45], line 1\u001b[0m\n\u001b[1;32m----> 1\u001b[0m \u001b[43msearch_button\u001b[49m\u001b[43m(\u001b[49m\u001b[43mnavegador\u001b[49m\u001b[38;5;241;43m=\u001b[39;49m\u001b[43mnavegador\u001b[49m\u001b[43m,\u001b[49m\u001b[43m \u001b[49m\u001b[43mss_do_parecer\u001b[49m\u001b[38;5;241;43m=\u001b[39;49m\u001b[43mss_do_parecer\u001b[49m\u001b[43m)\u001b[49m\n",
      "\u001b[1;31mTypeError\u001b[0m: search_button() missing 1 required positional argument: 'self'"
     ]
    }
   ],
   "source": [
    "search_button(navegador=navegador, ss_do_parecer=ss_do_parecer)"
   ]
  },
  {
   "cell_type": "code",
   "execution_count": null,
   "metadata": {},
   "outputs": [],
   "source": []
  }
 ],
 "metadata": {
  "kernelspec": {
   "display_name": "venv",
   "language": "python",
   "name": "python3"
  },
  "language_info": {
   "codemirror_mode": {
    "name": "ipython",
    "version": 3
   },
   "file_extension": ".py",
   "mimetype": "text/x-python",
   "name": "python",
   "nbconvert_exporter": "python",
   "pygments_lexer": "ipython3",
   "version": "3.10.11"
  }
 },
 "nbformat": 4,
 "nbformat_minor": 2
}
