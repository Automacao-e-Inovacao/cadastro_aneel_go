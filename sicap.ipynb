{
 "cells": [
  {
   "cell_type": "code",
   "execution_count": 1,
   "metadata": {},
   "outputs": [],
   "source": [
    "from selenium import webdriver\n",
    "from selenium.webdriver.common.by import By\n",
    "from selenium.webdriver.common.keys import Keys\n",
    "from selenium.webdriver.support.ui import WebDriverWait\n",
    "from selenium.webdriver.support import expected_conditions as EC\n",
    "from datetime import datetime\n",
    "import time\n",
    "import os\n"
   ]
  },
  {
   "cell_type": "code",
   "execution_count": null,
   "metadata": {},
   "outputs": [],
   "source": [
    "link_sicap = 'http://sistemassatelites.equatorial.corp:8080/Sicap-adm/'\n",
    "usuario_sicap = 'u5512983'\n",
    "senha_sicap = 'Ft$85Gb13:<f>@#$'\n",
    "\n",
    "chrome_options = webdriver.ChromeOptions()\n",
    "navegador = webdriver.Chrome(options= chrome_options)\n",
    "navegador.implicitly_wait(200)\n",
    "navegador.get(link_sicap)\n",
    "#Mudando o implicity wait para testes de elemtento (ALTERAR DEPOIS)\n",
    "navegador.implicitly_wait(1)"
   ]
  },
  {
   "cell_type": "code",
   "execution_count": 52,
   "metadata": {},
   "outputs": [],
   "source": [
    "def click_if_found(navegador, element_click): \n",
    "    try_order = [By.ID, By.CLASS_NAME, By.XPATH, By.TAG_NAME, By.CSS_SELECTOR]\n",
    "    for locator_type in try_order:\n",
    "        try:\n",
    "            element = navegador.find_element(locator_type, element_click)\n",
    "            while not element.is_displayed():\n",
    "                pass\n",
    "            element.click()\n",
    "            return  # Parar a execução se o elemento for encontrado com sucesso\n",
    "        except:\n",
    "            pass\n",
    "        \n",
    "def write_if_found(navegador, element, msg): \n",
    "    try_order = [By.ID, By.CLASS_NAME, By.XPATH, By.TAG_NAME, By.CSS_SELECTOR]\n",
    "    for locator_type in try_order:\n",
    "        try:\n",
    "            element = navegador.find_element(locator_type, element)\n",
    "            while not element.is_displayed():\n",
    "                pass\n",
    "            element.click()\n",
    "            element.clear()\n",
    "            element.send_keys(msg)\n",
    "            return  # Parar a execução se o elemento for encontrado com sucesso\n",
    "        except:\n",
    "            pass"
   ]
  },
  {
   "cell_type": "code",
   "execution_count": null,
   "metadata": {},
   "outputs": [],
   "source": []
  },
  {
   "cell_type": "code",
   "execution_count": null,
   "metadata": {},
   "outputs": [],
   "source": []
  },
  {
   "cell_type": "code",
   "execution_count": null,
   "metadata": {},
   "outputs": [],
   "source": [
    "navegador.find_element(by=By.XPATH, value='//*[@class=\"btn btn-default\"]').click()"
   ]
  },
  {
   "cell_type": "code",
   "execution_count": 63,
   "metadata": {},
   "outputs": [],
   "source": [
    "def login(self, navegador=navegador):\n",
    "    self.element_user = '//*[@id=\"input_username\"]'\n",
    "    self.element_pwrd = '//*[@id=\"input_password\"]'\n",
    "    self.usuario_sicap = 'u5512983'\n",
    "    self.senha_sicap = 'Ft$85Gb13:<f>@#$'\n",
    "    try:\n",
    "        #Botão Login, antes de inserir o usuario/senha\n",
    "        element_login = navegador.find_element(by=By.XPATH, value='//*[@class=\"btn btn-default\"]')\n",
    "        id_button_login = element_login.get_attribute(\"id\")\n",
    "        element_login.click()\n",
    "        #Preencher usuário\n",
    "        write_if_found(navegador, self.element_user, self.usuario_sicap)\n",
    "\n",
    "        #Preencher senha e pressionar Enter\n",
    "        password = navegador.find_element(by=By.XPATH, value=self.element_pwrd)\n",
    "        password.click()\n",
    "        password.clear()\n",
    "        password.send_keys(senha_sicap, Keys.ENTER)\n",
    "        return id_button_login\n",
    "    except:\n",
    "        pass\n",
    "    \n",
    "id_button_login = login(navegador)"
   ]
  },
  {
   "cell_type": "code",
   "execution_count": 65,
   "metadata": {},
   "outputs": [],
   "source": [
    "def search_ss(self, element_liken):\n",
    "    self.element_liken = element_liken\n",
    "    try:\n",
    "        #Botão buscar SS do parecer\n",
    "        element_search = navegador.find_element(by=By.XPATH, value='//*[@class=\"btn btn-default\"]')\n",
    "        id_button_search = element_search.get_attribute(\"id\")\n",
    "        if id_button_search != self.element_liken:\n",
    "            element_search.click()\n",
    "            return True\n",
    "        else:\n",
    "            return False\n",
    "    except:\n",
    "        pass\n"
   ]
  },
  {
   "cell_type": "code",
   "execution_count": null,
   "metadata": {},
   "outputs": [],
   "source": [
    "# Exemplo de uso\n",
    "id_button_login = login(navegador)\n",
    "if id_button_login:\n",
    "    if search_ss(element_liken=id_button_login):\n",
    "        print(\"Busca realizada com sucesso.\")\n",
    "    else:\n",
    "        print(\"Não foi possível realizar a busca.\")"
   ]
  },
  {
   "cell_type": "code",
   "execution_count": 38,
   "metadata": {},
   "outputs": [],
   "source": [
    "element_user_v2 = '//*[@id=\"username\"]'\n",
    "element_user = '//*[@id=\"input_username\"]'\n",
    "element_pwrd = '//*[@id=\"password\"]'\n",
    "usuario_sicap = 'u5512983'\n",
    "senha_sicap = 'Ft$85Gb13:<f>@#$'\n"
   ]
  },
  {
   "cell_type": "code",
   "execution_count": null,
   "metadata": {},
   "outputs": [],
   "source": [
    "def tentar_logar():\n",
    "        try:\n",
    "            self.driver.get('http://www2.aneel.gov.br/scg/gd/login.asp')\n",
    "        except:\n",
    "            self.driver = webdriver.Chrome()\n",
    "            self.driver.implicitly_wait(60)\n",
    "            self.driver.get('http://www2.aneel.gov.br/scg/gd/login.asp')\n",
    "        titulo_da_pagina = self.driver.current_url\n",
    "        if 'login' in titulo_da_pagina:\n",
    "            login(self.driver, self.usuario_aneel, self.senha_aneel)\n",
    "        else:\n",
    "            self.logger_nota.error(f'Titulo da página é diferente de login :|: {titulo_da_pagina}')\n",
    "\n",
    "        titulo_da_pagina = self.driver.current_url\n",
    "        if 'links' in titulo_da_pagina:\n",
    "            lista_de_elementos_botao = self.driver.find_elements(by=By.NAME, value='botao')\n",
    "            for elemento in lista_de_elementos_botao:\n",
    "                titulo_do_elemento = elemento.get_attribute('title')\n",
    "                if titulo_do_elemento == 'Ver, alterar, incluir fonte ou excluir UC com GD cadastradas':\n",
    "                    elemento.click()\n",
    "                    break\n",
    "            else:\n",
    "                self.logger_nota.error(f'Não foi possível encontrar o elemento com o nome \"Ver, alterar, incluir '\n",
    "                                           f'fonte ou excluir UC com GD cadastradas\" na tela de menu ')\n",
    "        else:\n",
    "            self.logger_nota.error(f'Titulo da página é diferente de links :|: {titulo_da_pagina}')"
   ]
  },
  {
   "cell_type": "code",
   "execution_count": null,
   "metadata": {},
   "outputs": [],
   "source": [
    "element_login = navegador.find_element(by=By.CLASS_NAME, value='fa fa-search')\n",
    "element_login.click()"
   ]
  },
  {
   "cell_type": "code",
   "execution_count": null,
   "metadata": {},
   "outputs": [],
   "source": [
    "navegador.find_element(by=By.CLASS_NAME, value='fa fa-search')"
   ]
  },
  {
   "cell_type": "code",
   "execution_count": 48,
   "metadata": {},
   "outputs": [],
   "source": [
    "element_user = '//*[@id=\"username\"]'\n",
    "element_pwrd = '//*[@id=\"password\"]'\n",
    "element_search = '//*[@class=\"fa fa-search\"]'"
   ]
  },
  {
   "cell_type": "code",
   "execution_count": 49,
   "metadata": {},
   "outputs": [],
   "source": [
    "element_login = navegador.find_element(by=By.XPATH, value='//*[@class=\"fa fa-search\"]')"
   ]
  },
  {
   "cell_type": "code",
   "execution_count": 50,
   "metadata": {},
   "outputs": [],
   "source": [
    "element_login.click()"
   ]
  },
  {
   "cell_type": "code",
   "execution_count": null,
   "metadata": {},
   "outputs": [],
   "source": [
    "#Clicar apenas quando o elemento estiver visível\n",
    "def into_atendimento_ao_cliente():\n",
    "    while True:\n",
    "        try:\n",
    "            elemento_button_atendimento = navegador.find_element(by=By.XPATH, value='')\n",
    "            while not elemento_button_atendimento.is_displayed():\n",
    "                pass\n",
    "            elemento_button_atendimento.click()       \n",
    "            navegador.find_element(by=By.XPATH, value='').click()\n",
    "            break\n",
    "        except:\n",
    "            pass\n",
    "into_atendimento_ao_cliente()"
   ]
  },
  {
   "cell_type": "code",
   "execution_count": 37,
   "metadata": {},
   "outputs": [],
   "source": [
    "class ReadExcelFile:\n",
    "    ss_do_parecer = '164707086'\n",
    "    \n",
    "    def __init__(self, ss_do_parecer) -> None:\n",
    "        self.ss_do_parecer = ss_do_parecer\n",
    "        \n",
    "        pass"
   ]
  },
  {
   "cell_type": "code",
   "execution_count": 44,
   "metadata": {},
   "outputs": [],
   "source": [
    "class Sicap:\n",
    "    def __init__(self) -> None:\n",
    "        self.button_find = '//*[@id=\"templateForm:j_idt48\"]'\n",
    "        self.button_insert_ss = '//*[@id=\"novasEntradas:interessadoFilter\"]'\n",
    "        self.button_consultar = '//*[@id=\"novasEntradas:j_idt92\"]'\n",
    "        \n",
    "    def search_button(self, navegador, ss_do_parecer):\n",
    "        try:\n",
    "            # Botão Buscar\n",
    "            click_if_found(navegador, element_click=self.button_find)\n",
    "            # Botão Inserir SS do parecer\n",
    "            ss_value = str(self.ss_do_parecer)  # Garante que o valor seja uma string\n",
    "            navegador.find_element(by=By.XPATH, value=self.button_insert_ss).send_keys(ss_value)\n",
    "            # Botão Consultar\n",
    "            click_if_found(navegador, element_click=self.button_consultar)\n",
    "        except:\n",
    "            pass\n"
   ]
  },
  {
   "cell_type": "code",
   "execution_count": null,
   "metadata": {},
   "outputs": [],
   "source": []
  }
 ],
 "metadata": {
  "kernelspec": {
   "display_name": "venv",
   "language": "python",
   "name": "python3"
  },
  "language_info": {
   "codemirror_mode": {
    "name": "ipython",
    "version": 3
   },
   "file_extension": ".py",
   "mimetype": "text/x-python",
   "name": "python",
   "nbconvert_exporter": "python",
   "pygments_lexer": "ipython3",
   "version": "3.10.11"
  }
 },
 "nbformat": 4,
 "nbformat_minor": 2
}
